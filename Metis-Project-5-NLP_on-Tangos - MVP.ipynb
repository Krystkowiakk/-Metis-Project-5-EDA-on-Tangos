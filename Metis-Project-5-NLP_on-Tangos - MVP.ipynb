{
 "cells": [
  {
   "cell_type": "markdown",
   "id": "80dc9406",
   "metadata": {},
   "source": [
    "# Argentinian Tango Lyrics Analysis\n",
    "## Metis Project 5 - NLP on Tango Lyrics - MVP\n",
    "Krystian Krystkowiak 2022"
   ]
  },
  {
   "cell_type": "markdown",
   "id": "ed532164",
   "metadata": {},
   "source": [
    "The goal of this project is to perform analysis of topics used by various Golden Age poets can help modern orquestras to imitate them. Exploration is also helpful for tango specialist (music collectors, dance teachers) and private passionates."
   ]
  },
  {
   "cell_type": "markdown",
   "id": "6ec1bcf2",
   "metadata": {},
   "source": [
    "**Sollution Path:**\n",
    "\n",
    "I'm using the dataset that originally comes www.el-recodo.com.\n",
    "I decided to focus on period 1920-1960 to include all the songs considered as traditional tango. I included tango, valses and milongas. \n",
    "The data consist of over 2400 songs in Spanish with average 145 words."
   ]
  },
  {
   "cell_type": "markdown",
   "id": "7cc00643",
   "metadata": {},
   "source": [
    "**Work Completed:**\n",
    "\n",
    "After innicial cleaning, I pre-processed the data. I removed all digits and punctuation, I used nltk module in order to remove stop words enlarged by self created dictionary. \n",
    "\n",
    "To begin building a topic model, I created baseline models using and tuning the CountVectorizer."
   ]
  },
  {
   "cell_type": "markdown",
   "id": "c1bc0173",
   "metadata": {},
   "source": [
    "**Recent Findings:**\n",
    "\n",
    "I have opted to tune a model using the CountVectorizer. Though I am continuing to tune the number of topics to use in this model, I have was able to separate some distinct topics, such as:\n",
    "\n",
    "SAD LOVE - 'love', 'heart', 'life', 'today', 'pain', 'I want', 'soul'\n",
    "\n",
    "SUBURB MUSIC -  'tango', 'bandoneon', 'night', 'emotion', 'suburb', 'neighborhood', 'heart'\n",
    "\n",
    "SWEET LOVE - 'love', 'tango', 'song', 'flower', 'voice', 'sweet', 'bandoneon'\n",
    "\n",
    "NIGHT SONG - 'heart', 'voice', 'night', 'song', 'goodbye', 'moon', 'illusion'\n",
    "\n",
    "PERSONAL FEELINGS - 'I want', 'I know', 'I can', 'want', 'heart', 'how', 'well'"
   ]
  },
  {
   "cell_type": "markdown",
   "id": "7f8cb19f",
   "metadata": {},
   "source": [
    "**Moving Forward:**\n",
    "\n",
    "I will continue to tune and explore other models to make the topics more coherent/interpretable. The final topic model may be used to build a basic recommendation system."
   ]
  },
  {
   "cell_type": "code",
   "execution_count": null,
   "id": "86e8e2da",
   "metadata": {},
   "outputs": [],
   "source": []
  }
 ],
 "metadata": {
  "kernelspec": {
   "display_name": "Python 3 (ipykernel)",
   "language": "python",
   "name": "python3"
  },
  "language_info": {
   "codemirror_mode": {
    "name": "ipython",
    "version": 3
   },
   "file_extension": ".py",
   "mimetype": "text/x-python",
   "name": "python",
   "nbconvert_exporter": "python",
   "pygments_lexer": "ipython3",
   "version": "3.9.12"
  }
 },
 "nbformat": 4,
 "nbformat_minor": 5
}
