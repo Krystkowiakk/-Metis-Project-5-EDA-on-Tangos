{
 "cells": [
  {
   "cell_type": "markdown",
   "id": "c7d61795",
   "metadata": {},
   "source": [
    "# What are tangos about?\n",
    "## Metis-Project-5-natural language processing for tango lyrics analysis\n",
    "\n",
    "Krystian Krystkowiak 2022"
   ]
  },
  {
   "cell_type": "markdown",
   "id": "905f6b9a",
   "metadata": {},
   "source": [
    "**Abstract:**\n",
    "\n",
    "The goal of this project was to perform analysis of topics used by various Golden Age tangos poets to help modern orquestras imitate them. Exploration is  usefull also for other tango specialist (music collectors, dance teachers) and private passionates.\n",
    "I worked with dataset of lyrics from www.el-recodo.com. It is a powerful source of information about Argentinian Tango music both for professionals as for hobbyists.\n",
    "\n",
    "\n",
    "After innicial cleaning, I pre-processed spanish texts to distinguish the topics. After testing and tunig of couple models, I decided for Latent Semantic Analysis. I performed EDA and built an interactive dashboard to visualize and communicate my results using Tableau."
   ]
  },
  {
   "cell_type": "markdown",
   "id": "46fbc9e8",
   "metadata": {},
   "source": [
    "**Design:**\n",
    "\n",
    "The Golden Age of Tango Music is considered to be the period from 1935 to 1955. Many of finest poets that Argentina and Uruguay have ever produced have written Tango lyrics. Quickly the form became one of the richest in Twentieth Century popular culture. And as the lyrics improved in quality, this was also the period when great singers began to emerge, and then to dominate the Tango scene, particularly with the advent of radio, and later sound film. Towards the end of the 60s tango slowly lost its popularity to rock'n roll and pop music.\n",
    "\n",
    "Its 2022 and tango - as a dance - is back! Although most of the music played at novadays milongas is the old music - from the Golden Age, we can observe in last 15 years raise of young, modern orguestras. As those modern bands were starting with covers of old tango creations, now - more and more often - they come up with new songs to keep the tango music alive.\n",
    "\n",
    "Analysis of topics used by various Golden Age poets can help modern orquestras to imitate them and keep spirit of particular orquestras or period. Such exploration is also big intellectual feast for each Argentinian Tango specialist (music collectors, dance teachers) and private passionates."
   ]
  },
  {
   "cell_type": "markdown",
   "id": "35ed99e8",
   "metadata": {},
   "source": [
    "**Data:**\n",
    "\n",
    "I used the dataset that originally comes www.el-recodo.com. It is a powerful source of information about Argentinian Tango music both for professionals as for hobbyists. The dataset is scraped and initially cleaned by gefero, who shared it at GitHub: https://github.com/gefero/tango_scrap\n",
    "\n",
    "I decided to focus on period 1920-1960 to include all the songs considered as traditional tango. I included tango, valses and milongas and they are all styles created by the same orquestras and were played at the same circumstances.\n",
    "\n",
    "Over 2400 songs in Spanish with average 120 words. My focus were the lyrics (subject of NLP), author, orquestra, singer and year."
   ]
  },
  {
   "cell_type": "markdown",
   "id": "7f4e92ec",
   "metadata": {},
   "source": [
    "**Algorithms:**\n",
    "\n",
    "Filtering and cleaning data, removing capital letters and punctuation, extracting features.\n",
    "\n",
    "nltk and spacy were used for removing stopwords and Spanish lemmatisation. \n",
    "\n",
    "Diferent models were tested for Dimensionality Reduction and Clustering.\n",
    "\n",
    "KMeans clustering and siluette coeffisient also sugested 3 topics as optimal.\n",
    "\n",
    "PyPI module was used for spanish sentiment analiser.\n",
    "\n",
    "Final EDA was performed on results of CountVectorizer on Latent Semantic Analysis.\n",
    "3 topics were distinguished:\n",
    "\n",
    "DRAMATIC ROMANCE - love, heart, life, night, power, today, say, cry, pain\n",
    "\n",
    "\n",
    "TANGO MUSIC&DANCE - tango, dance, bandoneon, old man, night, neighborhood, suburb, friend, emotion\n",
    "\n",
    "\n",
    "SWEET LOVE - love, tango, heart, song, voice, dream, bandoneon, dance, sweet\n",
    "\n"
   ]
  },
  {
   "cell_type": "markdown",
   "id": "d2759ab6",
   "metadata": {},
   "source": [
    "**Tools:**\n",
    "\n",
    "Python Pandas and Numpy for processing.\n",
    "\n",
    "Python packages for nlp (re, nltk, spacy, sklearn, gensim, PyPI, ext.)\n",
    "\n",
    "Plotly, WordCloud, for visualization.\n",
    "\n",
    "Tableau and Keynote for visualization."
   ]
  },
  {
   "cell_type": "markdown",
   "id": "6ceee842",
   "metadata": {},
   "source": [
    "**Communication:**\n",
    "\n",
    "5 minutes recorded video presentation with visualisation and interactive Tablau at: https://public.tableau.com/views/tango/Dashboard1"
   ]
  }
 ],
 "metadata": {
  "kernelspec": {
   "display_name": "Python 3 (unsupervised)",
   "language": "python",
   "name": "unsupervised"
  },
  "language_info": {
   "codemirror_mode": {
    "name": "ipython",
    "version": 3
   },
   "file_extension": ".py",
   "mimetype": "text/x-python",
   "name": "python",
   "nbconvert_exporter": "python",
   "pygments_lexer": "ipython3",
   "version": "3.9.7"
  }
 },
 "nbformat": 4,
 "nbformat_minor": 5
}
