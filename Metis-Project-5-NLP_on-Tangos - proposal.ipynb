{
 "cells": [
  {
   "cell_type": "markdown",
   "id": "80dc9406",
   "metadata": {},
   "source": [
    "# Argentinian Tango Lyrics Analysis\n",
    "## Metis Project 5 - NLP on Tango Lyrics\n",
    "Krystian Krystkowiak 2022"
   ]
  },
  {
   "cell_type": "markdown",
   "id": "ed532164",
   "metadata": {},
   "source": [
    "**Question/Need:**\n",
    "\n",
    "The Golden Age of Tango Music is considered to be the period from 1935 to 1955. Many of finest poets that Argentina and Uruguay have ever produced have written Tango lyrics. Quickly the form became one of the richest in Twentieth Century popular culture. And as the lyrics improved in quality, this was also the period when great singers began to emerge, and then to dominate the Tango scene, particularly with the advent of radio, and later sound film. Towards the end of the 60s tango slowly lost its popularity, rock'n roll and pop music emerged. \n",
    "\n",
    "Its 2022 and tango as a dance is back! Although most of the music played at novadays milongas are from the Golden Age, we can observe in last 15 years raise of young, modern orguestras. As those modern bands were starting with covers of old tango creations, now - more and more often - they come up with new songs to keep the tango music alive.\n",
    "\n",
    "Analysis of topics used by various Golden Age poets can help modern orquestras to imitate them and keep spirit of particular orquestras or period. Such exploration is also big intellectual feast for each Argentinian Tango specialist (music collectors, dance teachers) and private passionates."
   ]
  },
  {
   "cell_type": "markdown",
   "id": "6ec1bcf2",
   "metadata": {},
   "source": [
    "**Data Description:**\n",
    "\n",
    "I intend to use the dataset that originally comes www.el-recodo.com. It is a powerful source of information about Argentinian Tango music both for professionals as for hobbyists. The dataset is scraped and initially cleaned by gefero, who shared it at GitHub: https://github.com/gefero/tango_scrap\n",
    "\n",
    "I decided to focus on period 1920-1960 to include all the songs considered as traditional tango. I included tango, valses and milongas and they are all styles created by the same orquestras and were played at the same circumstances. \n",
    "\n",
    "Over 3800 songs in Spanish with average 120 words. \n",
    "Our focus will be the lyrics(subject of NLP), name of the song, author, orquestra, singer and year.\n"
   ]
  },
  {
   "cell_type": "markdown",
   "id": "7cc00643",
   "metadata": {},
   "source": [
    "**Tools:**\n",
    "\n",
    "Python Pandas and Numpy for processing. \n",
    "\n",
    "Python text processing libraries/tools (such as NLTK, spaCy, gensim, scikit-learn) for data handling.\n",
    "\n",
    "Python Seaborn and Plotly for visualization.\n",
    "\n",
    "Tableau for visualization.\n",
    "\n",
    "Google translate for translation.\n",
    "\n"
   ]
  },
  {
   "cell_type": "markdown",
   "id": "443a9b89",
   "metadata": {},
   "source": [
    "**MVP Goal:**\n",
    "\n",
    "Initial topic identification and preliminary conclusions."
   ]
  }
 ],
 "metadata": {
  "kernelspec": {
   "display_name": "Python 3 (ipykernel)",
   "language": "python",
   "name": "python3"
  },
  "language_info": {
   "codemirror_mode": {
    "name": "ipython",
    "version": 3
   },
   "file_extension": ".py",
   "mimetype": "text/x-python",
   "name": "python",
   "nbconvert_exporter": "python",
   "pygments_lexer": "ipython3",
   "version": "3.9.7"
  }
 },
 "nbformat": 4,
 "nbformat_minor": 5
}
